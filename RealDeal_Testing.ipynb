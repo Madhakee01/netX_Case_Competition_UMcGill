{
 "cells": [
  {
   "cell_type": "code",
   "execution_count": 34,
   "metadata": {},
   "outputs": [],
   "source": [
    "# Tensorflow and Keras\n",
    "import tensorflow as tf\n",
    "from tensorflow.keras.preprocessing.image import ImageDataGenerator\n",
    "from tensorflow import keras\n",
    "from tensorflow.keras.models import Sequential\n",
    "from tensorflow.keras.layers import Dense, Dropout, Activation, Flatten, Conv2D, MaxPooling2D"
   ]
  },
  {
   "cell_type": "code",
   "execution_count": 46,
   "metadata": {},
   "outputs": [
    {
     "name": "stdout",
     "output_type": "stream",
     "text": [
      "Found 616 images belonging to 2 classes.\n",
      "Found 154 images belonging to 2 classes.\n"
     ]
    }
   ],
   "source": [
    "# Aknowledgment https://www.geeksforgeeks.org/cnn-image-data-pre-processing-with-generators/\n",
    "\n",
    "# IMAGE PREPROCESSING AND AUGMENTATION\n",
    "# Create Keras ImageDataGenerator to prepare our images\n",
    "data= ImageDataGenerator(validation_split=0.2, rescale = 1./255)  \n",
    "# Images are being scaled to 150x150\n",
    "train_data = data.flow_from_directory( \n",
    "                    directory=r\"./Part_1_Dataset/Train\", \n",
    "                    target_size =(64, 64),  # target_size = input image size \n",
    "                    batch_size = 32, \n",
    "                    class_mode ='binary',\n",
    "                    # color_mode=\"grayscale\",\n",
    "                    subset='training')\n",
    "test_data = data.flow_from_directory( \n",
    "                    directory=r\"./Part_1_Dataset/Train\", \n",
    "                    target_size =(64, 64),  # target_size = input image size \n",
    "                    batch_size = 32, \n",
    "                    class_mode ='binary',\n",
    "                    # color_mode=\"grayscale\",\n",
    "                    subset='validation')"
   ]
  },
  {
   "cell_type": "code",
   "execution_count": 47,
   "metadata": {},
   "outputs": [
    {
     "name": "stdout",
     "output_type": "stream",
     "text": [
      "Model: \"sequential_12\"\n",
      "_________________________________________________________________\n",
      "Layer (type)                 Output Shape              Param #   \n",
      "=================================================================\n",
      "conv2d_7 (Conv2D)            (None, 62, 62, 64)        1792      \n",
      "_________________________________________________________________\n",
      "activation_12 (Activation)   (None, 62, 62, 64)        0         \n",
      "_________________________________________________________________\n",
      "max_pooling2d_6 (MaxPooling2 (None, 31, 31, 64)        0         \n",
      "_________________________________________________________________\n",
      "flatten_6 (Flatten)          (None, 61504)             0         \n",
      "_________________________________________________________________\n",
      "dense_12 (Dense)             (None, 64)                3936320   \n",
      "_________________________________________________________________\n",
      "dense_13 (Dense)             (None, 1)                 65        \n",
      "_________________________________________________________________\n",
      "activation_13 (Activation)   (None, 1)                 0         \n",
      "=================================================================\n",
      "Total params: 3,938,177\n",
      "Trainable params: 3,938,177\n",
      "Non-trainable params: 0\n",
      "_________________________________________________________________\n"
     ]
    }
   ],
   "source": [
    "model = Sequential()\n",
    "model.add(Conv2D(64, (3,3), input_shape = (64,64,3)))\n",
    "model.add(Activation(\"relu\"))\n",
    "model.add(MaxPooling2D(pool_size=(2,2)))\n",
    "\n",
    "model.add(Flatten())\n",
    "model.add(Dense(64))\n",
    "\n",
    "model.add(Dense(1))\n",
    "model.add(Activation('sigmoid'))\n",
    "\n",
    "model.compile(loss=\"binary_crossentropy\", optimizer=\"adam\", metrics=['accuracy'])\n",
    "model.summary()"
   ]
  },
  {
   "cell_type": "code",
   "execution_count": 48,
   "metadata": {},
   "outputs": [
    {
     "name": "stdout",
     "output_type": "stream",
     "text": [
      "Epoch 1/3\n",
      "20/20 [==============================] - 54s 3s/step - loss: 5.7678 - accuracy: 0.6006\n",
      "Epoch 2/3\n",
      "20/20 [==============================] - 53s 3s/step - loss: 0.5231 - accuracy: 0.7500\n",
      "Epoch 3/3\n",
      "20/20 [==============================] - 52s 3s/step - loss: 0.2984 - accuracy: 0.8879\n"
     ]
    },
    {
     "data": {
      "text/plain": [
       "<tensorflow.python.keras.callbacks.History at 0x7f90447d9fd0>"
      ]
     },
     "execution_count": 48,
     "metadata": {},
     "output_type": "execute_result"
    }
   ],
   "source": [
    "model.fit(train_data, batch_size=32, epochs=3)"
   ]
  },
  {
   "cell_type": "code",
   "execution_count": null,
   "metadata": {},
   "outputs": [],
   "source": []
  },
  {
   "cell_type": "code",
   "execution_count": null,
   "metadata": {},
   "outputs": [],
   "source": []
  }
 ],
 "metadata": {
  "kernelspec": {
   "display_name": "Python 3",
   "language": "python",
   "name": "python3"
  },
  "language_info": {
   "codemirror_mode": {
    "name": "ipython",
    "version": 3
   },
   "file_extension": ".py",
   "mimetype": "text/x-python",
   "name": "python",
   "nbconvert_exporter": "python",
   "pygments_lexer": "ipython3",
   "version": "3.7.6"
  }
 },
 "nbformat": 4,
 "nbformat_minor": 4
}
