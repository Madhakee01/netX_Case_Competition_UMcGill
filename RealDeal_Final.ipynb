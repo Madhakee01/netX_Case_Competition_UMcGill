{
 "cells": [
  {
   "cell_type": "code",
   "execution_count": 25,
   "metadata": {},
   "outputs": [],
   "source": [
    "# Tensorflow and Keras\n",
    "import tensorflow as tf\n",
    "from tensorflow.keras.preprocessing.image import ImageDataGenerator\n",
    "from tensorflow import keras\n",
    "from tensorflow.keras.models import Sequential\n",
    "from tensorflow.keras.layers import Dense, Dropout, Activation, Flatten, Conv2D, MaxPooling2D\n",
    "from PIL import Image\n",
    "import matplotlib.pyplot as plt"
   ]
  },
  {
   "cell_type": "code",
   "execution_count": 26,
   "metadata": {},
   "outputs": [
    {
     "name": "stdout",
     "output_type": "stream",
     "text": [
      "Found 693 images belonging to 2 classes.\n",
      "Found 77 images belonging to 2 classes.\n"
     ]
    }
   ],
   "source": [
    "# Aknowledgment https://www.geeksforgeeks.org/cnn-image-data-pre-processing-with-generators/\n",
    "\n",
    "# IMAGE PREPROCESSING AND AUGMENTATION\n",
    "# Create Keras ImageDataGenerator to prepare our images\n",
    "data = ImageDataGenerator(shear_range=45,\n",
    "                          rotation_range=360,\n",
    "                          vertical_flip = True,\n",
    "                          horizontal_flip= True,\n",
    "                          validation_split=0.1,\n",
    "                          rescale = 1./255)  \n",
    "# Images are being scaled to 150x150\n",
    "train_data = data.flow_from_directory( \n",
    "                    directory=r\"./Part_1_Dataset/Train\", \n",
    "                    target_size =(64, 64),  # target_size = input image size \n",
    "                    batch_size = 32, \n",
    "                    class_mode ='binary',\n",
    "                    color_mode=\"grayscale\",\n",
    "                    subset='training')\n",
    "test_data = data.flow_from_directory( \n",
    "                    directory=r\"./Part_1_Dataset/Train\", \n",
    "                    target_size =(64, 64),  # target_size = input image size \n",
    "                    batch_size = 32, \n",
    "                    class_mode ='binary',\n",
    "                    color_mode=\"grayscale\",\n",
    "                    subset='validation')"
   ]
  },
  {
   "cell_type": "code",
   "execution_count": 27,
   "metadata": {},
   "outputs": [
    {
     "name": "stdout",
     "output_type": "stream",
     "text": [
      "Model: \"sequential_5\"\n",
      "_________________________________________________________________\n",
      "Layer (type)                 Output Shape              Param #   \n",
      "=================================================================\n",
      "conv2d_5 (Conv2D)            (None, 62, 62, 64)        640       \n",
      "_________________________________________________________________\n",
      "activation_10 (Activation)   (None, 62, 62, 64)        0         \n",
      "_________________________________________________________________\n",
      "max_pooling2d_5 (MaxPooling2 (None, 31, 31, 64)        0         \n",
      "_________________________________________________________________\n",
      "flatten_5 (Flatten)          (None, 61504)             0         \n",
      "_________________________________________________________________\n",
      "dense_10 (Dense)             (None, 64)                3936320   \n",
      "_________________________________________________________________\n",
      "dense_11 (Dense)             (None, 1)                 65        \n",
      "_________________________________________________________________\n",
      "activation_11 (Activation)   (None, 1)                 0         \n",
      "=================================================================\n",
      "Total params: 3,937,025\n",
      "Trainable params: 3,937,025\n",
      "Non-trainable params: 0\n",
      "_________________________________________________________________\n"
     ]
    }
   ],
   "source": [
    "model = Sequential()\n",
    "model.add(Conv2D(64, (3,3), input_shape = (64,64,1)))\n",
    "model.add(Activation(\"relu\"))\n",
    "model.add(MaxPooling2D(pool_size=(2,2)))\n",
    "\n",
    "model.add(Flatten())\n",
    "model.add(Dense(64))\n",
    "\n",
    "model.add(Dense(1))\n",
    "model.add(Activation('sigmoid'))\n",
    "\n",
    "model.compile(loss=\"binary_crossentropy\", optimizer=\"adam\", metrics=['accuracy'])\n",
    "model.summary()"
   ]
  },
  {
   "cell_type": "code",
   "execution_count": 28,
   "metadata": {},
   "outputs": [
    {
     "name": "stdout",
     "output_type": "stream",
     "text": [
      "Epoch 1/10\n",
      "22/22 [==============================] - 61s 3s/step - loss: 2.9327 - accuracy: 0.5724\n",
      "Epoch 2/10\n",
      "22/22 [==============================] - 63s 3s/step - loss: 0.6223 - accuracy: 0.6196\n",
      "Epoch 3/10\n",
      "22/22 [==============================] - 61s 3s/step - loss: 0.5010 - accuracy: 0.7896\n",
      "Epoch 4/10\n",
      "22/22 [==============================] - 69s 3s/step - loss: 0.4952 - accuracy: 0.7787\n",
      "Epoch 5/10\n",
      "22/22 [==============================] - 66s 3s/step - loss: 0.5070 - accuracy: 0.7655\n",
      "Epoch 6/10\n",
      "22/22 [==============================] - 68s 3s/step - loss: 0.4940 - accuracy: 0.7766\n",
      "Epoch 7/10\n",
      "22/22 [==============================] - 68s 3s/step - loss: 0.4788 - accuracy: 0.7852\n",
      "Epoch 8/10\n",
      "22/22 [==============================] - 75s 3s/step - loss: 0.4797 - accuracy: 0.7685\n",
      "Epoch 9/10\n",
      "22/22 [==============================] - 66s 3s/step - loss: 0.4865 - accuracy: 0.7701\n",
      "Epoch 10/10\n",
      "22/22 [==============================] - 64s 3s/step - loss: 0.4489 - accuracy: 0.7962\n"
     ]
    },
    {
     "data": {
      "text/plain": [
       "<tensorflow.python.keras.callbacks.History at 0x7fabb729c9d0>"
      ]
     },
     "execution_count": 28,
     "metadata": {},
     "output_type": "execute_result"
    }
   ],
   "source": [
    "class_weight = {0: 1, 1: 0.80}\n",
    "model.fit(train_data, batch_size=32, epochs=10, class_weight=class_weight)"
   ]
  },
  {
   "cell_type": "code",
   "execution_count": 29,
   "metadata": {
    "scrolled": true
   },
   "outputs": [
    {
     "name": "stdout",
     "output_type": "stream",
     "text": [
      "3/3 [==============================] - 2s 415ms/step - loss: 0.7673 - accuracy: 0.7792\n",
      "22/22 [==============================] - 64s 3s/step - loss: 0.5182 - accuracy: 0.7792\n"
     ]
    }
   ],
   "source": [
    "score_test = model.evaluate(test_data)\n",
    "score_train = model.evaluate(train_data)"
   ]
  },
  {
   "cell_type": "code",
   "execution_count": 5,
   "metadata": {},
   "outputs": [],
   "source": []
  }
 ],
 "metadata": {
  "kernelspec": {
   "display_name": "Python 3",
   "language": "python",
   "name": "python3"
  },
  "language_info": {
   "codemirror_mode": {
    "name": "ipython",
    "version": 3
   },
   "file_extension": ".py",
   "mimetype": "text/x-python",
   "name": "python",
   "nbconvert_exporter": "python",
   "pygments_lexer": "ipython3",
   "version": "3.7.6"
  }
 },
 "nbformat": 4,
 "nbformat_minor": 4
}
